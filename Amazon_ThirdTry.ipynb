{
 "cells": [
  {
   "cell_type": "code",
   "execution_count": 1,
   "metadata": {},
   "outputs": [],
   "source": [
    "import numpy as np\n",
    "import pandas as pd\n",
    "import matplotlib.pyplot as plt\n",
    "from pandas import DataFrame \n",
    "import nltk\n",
    "import random\n",
    "\n",
    "from sklearn.neighbors import NearestNeighbors\n",
    "from sklearn.linear_model import LogisticRegression\n",
    "from sklearn import neighbors\n",
    "from scipy.spatial.distance import cosine\n",
    "from sklearn.metrics import classification_report\n",
    "from sklearn.metrics import accuracy_score\n",
    "from sklearn.feature_selection import SelectKBest\n",
    "from sklearn.feature_extraction.text import CountVectorizer, TfidfTransformer\n",
    "\n",
    "import re\n",
    "import string\n",
    "from sklearn.metrics import mean_squared_error"
   ]
  },
  {
   "cell_type": "code",
   "execution_count": 2,
   "metadata": {},
   "outputs": [
    {
     "name": "stdout",
     "output_type": "stream",
     "text": [
      "Index([u'asin', u'helpful', u'overall', u'reviewText', u'reviewTime',\n",
      "       u'reviewerID', u'reviewerName', u'summary', u'unixReviewTime'],\n",
      "      dtype='object')\n",
      "(53258, 9)\n"
     ]
    }
   ],
   "source": [
    "df = pd.read_json(\"Office_Products_5.json\", lines=True)\n",
    "print(df.columns)\n",
    "print(df.shape)"
   ]
  },
  {
   "cell_type": "code",
   "execution_count": 3,
   "metadata": {},
   "outputs": [
    {
     "data": {
      "text/html": [
       "<div>\n",
       "<style scoped>\n",
       "    .dataframe tbody tr th:only-of-type {\n",
       "        vertical-align: middle;\n",
       "    }\n",
       "\n",
       "    .dataframe tbody tr th {\n",
       "        vertical-align: top;\n",
       "    }\n",
       "\n",
       "    .dataframe thead th {\n",
       "        text-align: right;\n",
       "    }\n",
       "</style>\n",
       "<table border=\"1\" class=\"dataframe\">\n",
       "  <thead>\n",
       "    <tr style=\"text-align: right;\">\n",
       "      <th></th>\n",
       "      <th>asin</th>\n",
       "      <th>reviewerID</th>\n",
       "      <th>overall</th>\n",
       "    </tr>\n",
       "  </thead>\n",
       "  <tbody>\n",
       "    <tr>\n",
       "      <th>0</th>\n",
       "      <td>B00000JBLH</td>\n",
       "      <td>A32T2H8150OJLU</td>\n",
       "      <td>5</td>\n",
       "    </tr>\n",
       "    <tr>\n",
       "      <th>1</th>\n",
       "      <td>B00000JBLH</td>\n",
       "      <td>A3MAFS04ZABRGO</td>\n",
       "      <td>5</td>\n",
       "    </tr>\n",
       "    <tr>\n",
       "      <th>2</th>\n",
       "      <td>B00000JBLH</td>\n",
       "      <td>A1F1A0QQP2XVH5</td>\n",
       "      <td>2</td>\n",
       "    </tr>\n",
       "    <tr>\n",
       "      <th>3</th>\n",
       "      <td>B00000JBLH</td>\n",
       "      <td>A49R5DBXXQDE5</td>\n",
       "      <td>5</td>\n",
       "    </tr>\n",
       "    <tr>\n",
       "      <th>4</th>\n",
       "      <td>B00000JBLH</td>\n",
       "      <td>A2XRMQA6PJ5ZJ8</td>\n",
       "      <td>5</td>\n",
       "    </tr>\n",
       "    <tr>\n",
       "      <th>5</th>\n",
       "      <td>B00000JBLH</td>\n",
       "      <td>A2JFOHC9W629IE</td>\n",
       "      <td>5</td>\n",
       "    </tr>\n",
       "    <tr>\n",
       "      <th>6</th>\n",
       "      <td>B00000JBLH</td>\n",
       "      <td>A38NELQT98S4H8</td>\n",
       "      <td>5</td>\n",
       "    </tr>\n",
       "    <tr>\n",
       "      <th>7</th>\n",
       "      <td>B00000JBLH</td>\n",
       "      <td>AA8M6331NI1EN</td>\n",
       "      <td>5</td>\n",
       "    </tr>\n",
       "    <tr>\n",
       "      <th>8</th>\n",
       "      <td>B00000JBLU</td>\n",
       "      <td>A25C2M3QF9G7OQ</td>\n",
       "      <td>5</td>\n",
       "    </tr>\n",
       "    <tr>\n",
       "      <th>9</th>\n",
       "      <td>B00000JBLU</td>\n",
       "      <td>A1RTVWTWZSIC94</td>\n",
       "      <td>5</td>\n",
       "    </tr>\n",
       "    <tr>\n",
       "      <th>10</th>\n",
       "      <td>B00000JBLU</td>\n",
       "      <td>A30U2QQN2FFHE9</td>\n",
       "      <td>5</td>\n",
       "    </tr>\n",
       "    <tr>\n",
       "      <th>11</th>\n",
       "      <td>B00000JBLU</td>\n",
       "      <td>A2W0XCWOK3MW6F</td>\n",
       "      <td>5</td>\n",
       "    </tr>\n",
       "    <tr>\n",
       "      <th>12</th>\n",
       "      <td>B00000JBLU</td>\n",
       "      <td>AGBFIQMV9L61Y</td>\n",
       "      <td>5</td>\n",
       "    </tr>\n",
       "    <tr>\n",
       "      <th>13</th>\n",
       "      <td>B00000JBLU</td>\n",
       "      <td>A2R6RA8FRBS608</td>\n",
       "      <td>5</td>\n",
       "    </tr>\n",
       "    <tr>\n",
       "      <th>14</th>\n",
       "      <td>B00000JBLU</td>\n",
       "      <td>A2A1XYSB692L6J</td>\n",
       "      <td>4</td>\n",
       "    </tr>\n",
       "    <tr>\n",
       "      <th>15</th>\n",
       "      <td>B00000JBLU</td>\n",
       "      <td>A4XCTN5YLC89U</td>\n",
       "      <td>5</td>\n",
       "    </tr>\n",
       "    <tr>\n",
       "      <th>16</th>\n",
       "      <td>B00000JBLU</td>\n",
       "      <td>A1LYT85S93HUNY</td>\n",
       "      <td>5</td>\n",
       "    </tr>\n",
       "    <tr>\n",
       "      <th>17</th>\n",
       "      <td>B00000JBNX</td>\n",
       "      <td>A2ZM9BGE3K3SY2</td>\n",
       "      <td>5</td>\n",
       "    </tr>\n",
       "    <tr>\n",
       "      <th>18</th>\n",
       "      <td>B00000JBNX</td>\n",
       "      <td>A1L9E4OA926W9B</td>\n",
       "      <td>4</td>\n",
       "    </tr>\n",
       "    <tr>\n",
       "      <th>19</th>\n",
       "      <td>B00000JBNX</td>\n",
       "      <td>A2C1Y5F8DE9H6P</td>\n",
       "      <td>5</td>\n",
       "    </tr>\n",
       "    <tr>\n",
       "      <th>20</th>\n",
       "      <td>B00000JBNX</td>\n",
       "      <td>A3DOPYDOS49I3T</td>\n",
       "      <td>4</td>\n",
       "    </tr>\n",
       "    <tr>\n",
       "      <th>21</th>\n",
       "      <td>B00000JBNX</td>\n",
       "      <td>A1Z54EM24Y40LL</td>\n",
       "      <td>5</td>\n",
       "    </tr>\n",
       "    <tr>\n",
       "      <th>22</th>\n",
       "      <td>B00000JBNX</td>\n",
       "      <td>A1TS45JWJVOSSW</td>\n",
       "      <td>5</td>\n",
       "    </tr>\n",
       "    <tr>\n",
       "      <th>23</th>\n",
       "      <td>B00000JBNX</td>\n",
       "      <td>A2GL70AZ8MWXI3</td>\n",
       "      <td>5</td>\n",
       "    </tr>\n",
       "    <tr>\n",
       "      <th>24</th>\n",
       "      <td>B00000JBNX</td>\n",
       "      <td>A1QI6PI0HH4H0P</td>\n",
       "      <td>5</td>\n",
       "    </tr>\n",
       "    <tr>\n",
       "      <th>25</th>\n",
       "      <td>B00000JBNX</td>\n",
       "      <td>A1RTVWTWZSIC94</td>\n",
       "      <td>3</td>\n",
       "    </tr>\n",
       "    <tr>\n",
       "      <th>26</th>\n",
       "      <td>B00000JBNX</td>\n",
       "      <td>A3DWENW34NQEAV</td>\n",
       "      <td>5</td>\n",
       "    </tr>\n",
       "    <tr>\n",
       "      <th>27</th>\n",
       "      <td>B00000JBNX</td>\n",
       "      <td>A21TCOLZEFE1AQ</td>\n",
       "      <td>5</td>\n",
       "    </tr>\n",
       "    <tr>\n",
       "      <th>28</th>\n",
       "      <td>B00000JBNX</td>\n",
       "      <td>A3SYP5JOEHUWDU</td>\n",
       "      <td>5</td>\n",
       "    </tr>\n",
       "    <tr>\n",
       "      <th>29</th>\n",
       "      <td>B00000JBNX</td>\n",
       "      <td>A6KL17KKN0A5L</td>\n",
       "      <td>5</td>\n",
       "    </tr>\n",
       "    <tr>\n",
       "      <th>...</th>\n",
       "      <td>...</td>\n",
       "      <td>...</td>\n",
       "      <td>...</td>\n",
       "    </tr>\n",
       "    <tr>\n",
       "      <th>53228</th>\n",
       "      <td>B00KOO594O</td>\n",
       "      <td>APP35M28G2U51</td>\n",
       "      <td>4</td>\n",
       "    </tr>\n",
       "    <tr>\n",
       "      <th>53229</th>\n",
       "      <td>B00KOO594O</td>\n",
       "      <td>A1H7Y5XKPGT0OS</td>\n",
       "      <td>4</td>\n",
       "    </tr>\n",
       "    <tr>\n",
       "      <th>53230</th>\n",
       "      <td>B00KOO594O</td>\n",
       "      <td>A3R5GTYQ50QVMD</td>\n",
       "      <td>5</td>\n",
       "    </tr>\n",
       "    <tr>\n",
       "      <th>53231</th>\n",
       "      <td>B00KOO594O</td>\n",
       "      <td>A379IB3EYAEL5</td>\n",
       "      <td>4</td>\n",
       "    </tr>\n",
       "    <tr>\n",
       "      <th>53232</th>\n",
       "      <td>B00KOO594O</td>\n",
       "      <td>A3U5HKDHPYBAK3</td>\n",
       "      <td>5</td>\n",
       "    </tr>\n",
       "    <tr>\n",
       "      <th>53233</th>\n",
       "      <td>B00KOO594O</td>\n",
       "      <td>AIVZMEFEAGF3</td>\n",
       "      <td>4</td>\n",
       "    </tr>\n",
       "    <tr>\n",
       "      <th>53234</th>\n",
       "      <td>B00KOO594O</td>\n",
       "      <td>AY6A8KPYCE6B0</td>\n",
       "      <td>5</td>\n",
       "    </tr>\n",
       "    <tr>\n",
       "      <th>53235</th>\n",
       "      <td>B00KOO599O</td>\n",
       "      <td>AA98O5326L88T</td>\n",
       "      <td>4</td>\n",
       "    </tr>\n",
       "    <tr>\n",
       "      <th>53236</th>\n",
       "      <td>B00KOO599O</td>\n",
       "      <td>AG8E2F0G98ZTB</td>\n",
       "      <td>5</td>\n",
       "    </tr>\n",
       "    <tr>\n",
       "      <th>53237</th>\n",
       "      <td>B00KOO599O</td>\n",
       "      <td>A2SSV6KM3W1VFD</td>\n",
       "      <td>4</td>\n",
       "    </tr>\n",
       "    <tr>\n",
       "      <th>53238</th>\n",
       "      <td>B00KOO599O</td>\n",
       "      <td>A1J6B00Z1D6PS4</td>\n",
       "      <td>5</td>\n",
       "    </tr>\n",
       "    <tr>\n",
       "      <th>53239</th>\n",
       "      <td>B00KOO599O</td>\n",
       "      <td>A25KKXUQQ0OLWB</td>\n",
       "      <td>5</td>\n",
       "    </tr>\n",
       "    <tr>\n",
       "      <th>53240</th>\n",
       "      <td>B00KOO599O</td>\n",
       "      <td>ABLV9L4MQO7ER</td>\n",
       "      <td>4</td>\n",
       "    </tr>\n",
       "    <tr>\n",
       "      <th>53241</th>\n",
       "      <td>B00KOO599O</td>\n",
       "      <td>A2KS0FVY2CNJ8M</td>\n",
       "      <td>3</td>\n",
       "    </tr>\n",
       "    <tr>\n",
       "      <th>53242</th>\n",
       "      <td>B00KOO599O</td>\n",
       "      <td>A1C0SOX7DPXY65</td>\n",
       "      <td>4</td>\n",
       "    </tr>\n",
       "    <tr>\n",
       "      <th>53243</th>\n",
       "      <td>B00KOO599O</td>\n",
       "      <td>AKPYS9VSM3LNX</td>\n",
       "      <td>4</td>\n",
       "    </tr>\n",
       "    <tr>\n",
       "      <th>53244</th>\n",
       "      <td>B00KOO599O</td>\n",
       "      <td>AFBUDZ63FOLVS</td>\n",
       "      <td>4</td>\n",
       "    </tr>\n",
       "    <tr>\n",
       "      <th>53245</th>\n",
       "      <td>B00KOO599O</td>\n",
       "      <td>A201EOJHER321F</td>\n",
       "      <td>5</td>\n",
       "    </tr>\n",
       "    <tr>\n",
       "      <th>53246</th>\n",
       "      <td>B00KOO599O</td>\n",
       "      <td>A3R5GTYQ50QVMD</td>\n",
       "      <td>5</td>\n",
       "    </tr>\n",
       "    <tr>\n",
       "      <th>53247</th>\n",
       "      <td>B00KOO599O</td>\n",
       "      <td>A2F09EWKV3MTO2</td>\n",
       "      <td>5</td>\n",
       "    </tr>\n",
       "    <tr>\n",
       "      <th>53248</th>\n",
       "      <td>B00KOO599O</td>\n",
       "      <td>A185QFJRTB5W93</td>\n",
       "      <td>5</td>\n",
       "    </tr>\n",
       "    <tr>\n",
       "      <th>53249</th>\n",
       "      <td>B00KOO599O</td>\n",
       "      <td>A3JVN244YWI3F3</td>\n",
       "      <td>5</td>\n",
       "    </tr>\n",
       "    <tr>\n",
       "      <th>53250</th>\n",
       "      <td>B00KYA0RC2</td>\n",
       "      <td>A2TI5R93FF69UN</td>\n",
       "      <td>5</td>\n",
       "    </tr>\n",
       "    <tr>\n",
       "      <th>53251</th>\n",
       "      <td>B00KYA0RC2</td>\n",
       "      <td>AYB4ELCS5AM8P</td>\n",
       "      <td>5</td>\n",
       "    </tr>\n",
       "    <tr>\n",
       "      <th>53252</th>\n",
       "      <td>B00KYA0RC2</td>\n",
       "      <td>AZMY6E8B52L2T</td>\n",
       "      <td>5</td>\n",
       "    </tr>\n",
       "    <tr>\n",
       "      <th>53253</th>\n",
       "      <td>B00KYA0RC2</td>\n",
       "      <td>A1ODOGXEYECQQ8</td>\n",
       "      <td>4</td>\n",
       "    </tr>\n",
       "    <tr>\n",
       "      <th>53254</th>\n",
       "      <td>B00KYA0RC2</td>\n",
       "      <td>A2XX2A4OJCDNLZ</td>\n",
       "      <td>5</td>\n",
       "    </tr>\n",
       "    <tr>\n",
       "      <th>53255</th>\n",
       "      <td>B00KYA0RC2</td>\n",
       "      <td>A3LGT6UZL99IW1</td>\n",
       "      <td>5</td>\n",
       "    </tr>\n",
       "    <tr>\n",
       "      <th>53256</th>\n",
       "      <td>B00KYA0RC2</td>\n",
       "      <td>A1XJOSJN6FHFO0</td>\n",
       "      <td>5</td>\n",
       "    </tr>\n",
       "    <tr>\n",
       "      <th>53257</th>\n",
       "      <td>B00KYA0RC2</td>\n",
       "      <td>AAEVGE52KL0DJ</td>\n",
       "      <td>4</td>\n",
       "    </tr>\n",
       "  </tbody>\n",
       "</table>\n",
       "<p>53258 rows × 3 columns</p>\n",
       "</div>"
      ],
      "text/plain": [
       "             asin      reviewerID  overall\n",
       "0      B00000JBLH  A32T2H8150OJLU        5\n",
       "1      B00000JBLH  A3MAFS04ZABRGO        5\n",
       "2      B00000JBLH  A1F1A0QQP2XVH5        2\n",
       "3      B00000JBLH   A49R5DBXXQDE5        5\n",
       "4      B00000JBLH  A2XRMQA6PJ5ZJ8        5\n",
       "5      B00000JBLH  A2JFOHC9W629IE        5\n",
       "6      B00000JBLH  A38NELQT98S4H8        5\n",
       "7      B00000JBLH   AA8M6331NI1EN        5\n",
       "8      B00000JBLU  A25C2M3QF9G7OQ        5\n",
       "9      B00000JBLU  A1RTVWTWZSIC94        5\n",
       "10     B00000JBLU  A30U2QQN2FFHE9        5\n",
       "11     B00000JBLU  A2W0XCWOK3MW6F        5\n",
       "12     B00000JBLU   AGBFIQMV9L61Y        5\n",
       "13     B00000JBLU  A2R6RA8FRBS608        5\n",
       "14     B00000JBLU  A2A1XYSB692L6J        4\n",
       "15     B00000JBLU   A4XCTN5YLC89U        5\n",
       "16     B00000JBLU  A1LYT85S93HUNY        5\n",
       "17     B00000JBNX  A2ZM9BGE3K3SY2        5\n",
       "18     B00000JBNX  A1L9E4OA926W9B        4\n",
       "19     B00000JBNX  A2C1Y5F8DE9H6P        5\n",
       "20     B00000JBNX  A3DOPYDOS49I3T        4\n",
       "21     B00000JBNX  A1Z54EM24Y40LL        5\n",
       "22     B00000JBNX  A1TS45JWJVOSSW        5\n",
       "23     B00000JBNX  A2GL70AZ8MWXI3        5\n",
       "24     B00000JBNX  A1QI6PI0HH4H0P        5\n",
       "25     B00000JBNX  A1RTVWTWZSIC94        3\n",
       "26     B00000JBNX  A3DWENW34NQEAV        5\n",
       "27     B00000JBNX  A21TCOLZEFE1AQ        5\n",
       "28     B00000JBNX  A3SYP5JOEHUWDU        5\n",
       "29     B00000JBNX   A6KL17KKN0A5L        5\n",
       "...           ...             ...      ...\n",
       "53228  B00KOO594O   APP35M28G2U51        4\n",
       "53229  B00KOO594O  A1H7Y5XKPGT0OS        4\n",
       "53230  B00KOO594O  A3R5GTYQ50QVMD        5\n",
       "53231  B00KOO594O   A379IB3EYAEL5        4\n",
       "53232  B00KOO594O  A3U5HKDHPYBAK3        5\n",
       "53233  B00KOO594O    AIVZMEFEAGF3        4\n",
       "53234  B00KOO594O   AY6A8KPYCE6B0        5\n",
       "53235  B00KOO599O   AA98O5326L88T        4\n",
       "53236  B00KOO599O   AG8E2F0G98ZTB        5\n",
       "53237  B00KOO599O  A2SSV6KM3W1VFD        4\n",
       "53238  B00KOO599O  A1J6B00Z1D6PS4        5\n",
       "53239  B00KOO599O  A25KKXUQQ0OLWB        5\n",
       "53240  B00KOO599O   ABLV9L4MQO7ER        4\n",
       "53241  B00KOO599O  A2KS0FVY2CNJ8M        3\n",
       "53242  B00KOO599O  A1C0SOX7DPXY65        4\n",
       "53243  B00KOO599O   AKPYS9VSM3LNX        4\n",
       "53244  B00KOO599O   AFBUDZ63FOLVS        4\n",
       "53245  B00KOO599O  A201EOJHER321F        5\n",
       "53246  B00KOO599O  A3R5GTYQ50QVMD        5\n",
       "53247  B00KOO599O  A2F09EWKV3MTO2        5\n",
       "53248  B00KOO599O  A185QFJRTB5W93        5\n",
       "53249  B00KOO599O  A3JVN244YWI3F3        5\n",
       "53250  B00KYA0RC2  A2TI5R93FF69UN        5\n",
       "53251  B00KYA0RC2   AYB4ELCS5AM8P        5\n",
       "53252  B00KYA0RC2   AZMY6E8B52L2T        5\n",
       "53253  B00KYA0RC2  A1ODOGXEYECQQ8        4\n",
       "53254  B00KYA0RC2  A2XX2A4OJCDNLZ        5\n",
       "53255  B00KYA0RC2  A3LGT6UZL99IW1        5\n",
       "53256  B00KYA0RC2  A1XJOSJN6FHFO0        5\n",
       "53257  B00KYA0RC2   AAEVGE52KL0DJ        4\n",
       "\n",
       "[53258 rows x 3 columns]"
      ]
     },
     "execution_count": 3,
     "metadata": {},
     "output_type": "execute_result"
    }
   ],
   "source": [
    "df_required = df[['asin', 'reviewerID', 'overall']]\n",
    "df_required"
   ]
  },
  {
   "cell_type": "code",
   "execution_count": 4,
   "metadata": {},
   "outputs": [],
   "source": [
    "#df_train = df_required.groupby('reviewerID', as_index=False).apply(lambda df: df.sample(int(len(df)*0.8)))\n",
    "#df_train = pd.DataFrame(df_train).reset_index().drop(columns = ['level_0', 'level_1'])\n"
   ]
  },
  {
   "cell_type": "code",
   "execution_count": 5,
   "metadata": {},
   "outputs": [],
   "source": [
    "from sklearn.model_selection import train_test_split\n",
    "train, test = train_test_split(df_required, test_size=0.2, random_state=0, stratify=df_required[['asin', 'reviewerID', 'overall']])"
   ]
  },
  {
   "cell_type": "code",
   "execution_count": 15,
   "metadata": {},
   "outputs": [],
   "source": [
    "import graphlab as gl\n",
    "gl.product_key.set_product_key('B8FB-B1DD-C6F6-47E6-7984-0310-3DA5-4307')"
   ]
  },
  {
   "cell_type": "code",
   "execution_count": 19,
   "metadata": {},
   "outputs": [
    {
     "data": {
      "text/html": [
       "<div style=\"max-height:1000px;max-width:1500px;overflow:auto;\"><table frame=\"box\" rules=\"cols\">\n",
       "    <tr>\n",
       "        <th style=\"padding-left: 1em; padding-right: 1em; text-align: center\">item_id</th>\n",
       "        <th style=\"padding-left: 1em; padding-right: 1em; text-align: center\">rating</th>\n",
       "        <th style=\"padding-left: 1em; padding-right: 1em; text-align: center\">user_id</th>\n",
       "    </tr>\n",
       "    <tr>\n",
       "        <td style=\"padding-left: 1em; padding-right: 1em; text-align: center; vertical-align: top\">B007B5VH0E</td>\n",
       "        <td style=\"padding-left: 1em; padding-right: 1em; text-align: center; vertical-align: top\">4</td>\n",
       "        <td style=\"padding-left: 1em; padding-right: 1em; text-align: center; vertical-align: top\">A260QLS8Z33KCQ</td>\n",
       "    </tr>\n",
       "    <tr>\n",
       "        <td style=\"padding-left: 1em; padding-right: 1em; text-align: center; vertical-align: top\">B00CODGOLK</td>\n",
       "        <td style=\"padding-left: 1em; padding-right: 1em; text-align: center; vertical-align: top\">5</td>\n",
       "        <td style=\"padding-left: 1em; padding-right: 1em; text-align: center; vertical-align: top\">A2E1EFNIZL2FVA</td>\n",
       "    </tr>\n",
       "    <tr>\n",
       "        <td style=\"padding-left: 1em; padding-right: 1em; text-align: center; vertical-align: top\">B00JAKXFQW</td>\n",
       "        <td style=\"padding-left: 1em; padding-right: 1em; text-align: center; vertical-align: top\">5</td>\n",
       "        <td style=\"padding-left: 1em; padding-right: 1em; text-align: center; vertical-align: top\">A1ZPY91VE3IDN1</td>\n",
       "    </tr>\n",
       "    <tr>\n",
       "        <td style=\"padding-left: 1em; padding-right: 1em; text-align: center; vertical-align: top\">B003VQR1T8</td>\n",
       "        <td style=\"padding-left: 1em; padding-right: 1em; text-align: center; vertical-align: top\">4</td>\n",
       "        <td style=\"padding-left: 1em; padding-right: 1em; text-align: center; vertical-align: top\">AS93JX4ZOK4WA</td>\n",
       "    </tr>\n",
       "    <tr>\n",
       "        <td style=\"padding-left: 1em; padding-right: 1em; text-align: center; vertical-align: top\">B0050BPWBQ</td>\n",
       "        <td style=\"padding-left: 1em; padding-right: 1em; text-align: center; vertical-align: top\">5</td>\n",
       "        <td style=\"padding-left: 1em; padding-right: 1em; text-align: center; vertical-align: top\">A1SBFI91YMPS9I</td>\n",
       "    </tr>\n",
       "    <tr>\n",
       "        <td style=\"padding-left: 1em; padding-right: 1em; text-align: center; vertical-align: top\">B009QZ49U2</td>\n",
       "        <td style=\"padding-left: 1em; padding-right: 1em; text-align: center; vertical-align: top\">5</td>\n",
       "        <td style=\"padding-left: 1em; padding-right: 1em; text-align: center; vertical-align: top\">A54REBNBBP8C0</td>\n",
       "    </tr>\n",
       "    <tr>\n",
       "        <td style=\"padding-left: 1em; padding-right: 1em; text-align: center; vertical-align: top\">B000LYAX1G</td>\n",
       "        <td style=\"padding-left: 1em; padding-right: 1em; text-align: center; vertical-align: top\">5</td>\n",
       "        <td style=\"padding-left: 1em; padding-right: 1em; text-align: center; vertical-align: top\">A25RYV8U6N0N1E</td>\n",
       "    </tr>\n",
       "    <tr>\n",
       "        <td style=\"padding-left: 1em; padding-right: 1em; text-align: center; vertical-align: top\">B005QAQFFS</td>\n",
       "        <td style=\"padding-left: 1em; padding-right: 1em; text-align: center; vertical-align: top\">4</td>\n",
       "        <td style=\"padding-left: 1em; padding-right: 1em; text-align: center; vertical-align: top\">A3MA0GENSE798M</td>\n",
       "    </tr>\n",
       "    <tr>\n",
       "        <td style=\"padding-left: 1em; padding-right: 1em; text-align: center; vertical-align: top\">B004VJSG2A</td>\n",
       "        <td style=\"padding-left: 1em; padding-right: 1em; text-align: center; vertical-align: top\">5</td>\n",
       "        <td style=\"padding-left: 1em; padding-right: 1em; text-align: center; vertical-align: top\">A81XIM8XFKWX5</td>\n",
       "    </tr>\n",
       "    <tr>\n",
       "        <td style=\"padding-left: 1em; padding-right: 1em; text-align: center; vertical-align: top\">B000GOZYRO</td>\n",
       "        <td style=\"padding-left: 1em; padding-right: 1em; text-align: center; vertical-align: top\">5</td>\n",
       "        <td style=\"padding-left: 1em; padding-right: 1em; text-align: center; vertical-align: top\">A1EE1HLYUIJPIG</td>\n",
       "    </tr>\n",
       "</table>\n",
       "[42606 rows x 3 columns]<br/>Note: Only the head of the SFrame is printed.<br/>You can use print_rows(num_rows=m, num_columns=n) to print more rows and columns.\n",
       "</div>"
      ],
      "text/plain": [
       "Columns:\n",
       "\titem_id\tstr\n",
       "\trating\tint\n",
       "\tuser_id\tstr\n",
       "\n",
       "Rows: 42606\n",
       "\n",
       "Data:\n",
       "+------------+--------+----------------+\n",
       "|  item_id   | rating |    user_id     |\n",
       "+------------+--------+----------------+\n",
       "| B007B5VH0E |   4    | A260QLS8Z33KCQ |\n",
       "| B00CODGOLK |   5    | A2E1EFNIZL2FVA |\n",
       "| B00JAKXFQW |   5    | A1ZPY91VE3IDN1 |\n",
       "| B003VQR1T8 |   4    | AS93JX4ZOK4WA  |\n",
       "| B0050BPWBQ |   5    | A1SBFI91YMPS9I |\n",
       "| B009QZ49U2 |   5    | A54REBNBBP8C0  |\n",
       "| B000LYAX1G |   5    | A25RYV8U6N0N1E |\n",
       "| B005QAQFFS |   4    | A3MA0GENSE798M |\n",
       "| B004VJSG2A |   5    | A81XIM8XFKWX5  |\n",
       "| B000GOZYRO |   5    | A1EE1HLYUIJPIG |\n",
       "+------------+--------+----------------+\n",
       "[42606 rows x 3 columns]\n",
       "Note: Only the head of the SFrame is printed.\n",
       "You can use print_rows(num_rows=m, num_columns=n) to print more rows and columns."
      ]
     },
     "execution_count": 19,
     "metadata": {},
     "output_type": "execute_result"
    }
   ],
   "source": [
    "sf_train = gl.SFrame({'user_id': train['reviewerID'],'item_id': train['asin'],'rating': train['overall']})\n",
    "sf_test = gl.SFrame({'user_id': test['reviewerID'],'item_id': test['asin'],'rating': test['overall']})\n",
    "sf_train"
   ]
  },
  {
   "cell_type": "code",
   "execution_count": 119,
   "metadata": {},
   "outputs": [
    {
     "data": {
      "text/html": [
       "<pre>Recsys training: model = factorization_recommender</pre>"
      ],
      "text/plain": [
       "Recsys training: model = factorization_recommender"
      ]
     },
     "metadata": {},
     "output_type": "display_data"
    },
    {
     "data": {
      "text/html": [
       "<pre>Preparing data set.</pre>"
      ],
      "text/plain": [
       "Preparing data set."
      ]
     },
     "metadata": {},
     "output_type": "display_data"
    },
    {
     "data": {
      "text/html": [
       "<pre>    Data has 42606 observations with 4905 users and 2420 items.</pre>"
      ],
      "text/plain": [
       "    Data has 42606 observations with 4905 users and 2420 items."
      ]
     },
     "metadata": {},
     "output_type": "display_data"
    },
    {
     "data": {
      "text/html": [
       "<pre>    Data prepared in: 0.12912s</pre>"
      ],
      "text/plain": [
       "    Data prepared in: 0.12912s"
      ]
     },
     "metadata": {},
     "output_type": "display_data"
    },
    {
     "data": {
      "text/html": [
       "<pre>Training factorization_recommender for recommendations.</pre>"
      ],
      "text/plain": [
       "Training factorization_recommender for recommendations."
      ]
     },
     "metadata": {},
     "output_type": "display_data"
    },
    {
     "data": {
      "text/html": [
       "<pre>+--------------------------------+--------------------------------------------------+----------+</pre>"
      ],
      "text/plain": [
       "+--------------------------------+--------------------------------------------------+----------+"
      ]
     },
     "metadata": {},
     "output_type": "display_data"
    },
    {
     "data": {
      "text/html": [
       "<pre>| Parameter                      | Description                                      | Value    |</pre>"
      ],
      "text/plain": [
       "| Parameter                      | Description                                      | Value    |"
      ]
     },
     "metadata": {},
     "output_type": "display_data"
    },
    {
     "data": {
      "text/html": [
       "<pre>+--------------------------------+--------------------------------------------------+----------+</pre>"
      ],
      "text/plain": [
       "+--------------------------------+--------------------------------------------------+----------+"
      ]
     },
     "metadata": {},
     "output_type": "display_data"
    },
    {
     "data": {
      "text/html": [
       "<pre>| num_factors                    | Factor Dimension                                 | 8        |</pre>"
      ],
      "text/plain": [
       "| num_factors                    | Factor Dimension                                 | 8        |"
      ]
     },
     "metadata": {},
     "output_type": "display_data"
    },
    {
     "data": {
      "text/html": [
       "<pre>| regularization                 | L2 Regularization on Factors                     | 1e-08    |</pre>"
      ],
      "text/plain": [
       "| regularization                 | L2 Regularization on Factors                     | 1e-08    |"
      ]
     },
     "metadata": {},
     "output_type": "display_data"
    },
    {
     "data": {
      "text/html": [
       "<pre>| solver                         | Solver used for training                         | sgd      |</pre>"
      ],
      "text/plain": [
       "| solver                         | Solver used for training                         | sgd      |"
      ]
     },
     "metadata": {},
     "output_type": "display_data"
    },
    {
     "data": {
      "text/html": [
       "<pre>| linear_regularization          | L2 Regularization on Linear Coefficients         | 1e-10    |</pre>"
      ],
      "text/plain": [
       "| linear_regularization          | L2 Regularization on Linear Coefficients         | 1e-10    |"
      ]
     },
     "metadata": {},
     "output_type": "display_data"
    },
    {
     "data": {
      "text/html": [
       "<pre>| max_iterations                 | Maximum Number of Iterations                     | 50       |</pre>"
      ],
      "text/plain": [
       "| max_iterations                 | Maximum Number of Iterations                     | 50       |"
      ]
     },
     "metadata": {},
     "output_type": "display_data"
    },
    {
     "data": {
      "text/html": [
       "<pre>+--------------------------------+--------------------------------------------------+----------+</pre>"
      ],
      "text/plain": [
       "+--------------------------------+--------------------------------------------------+----------+"
      ]
     },
     "metadata": {},
     "output_type": "display_data"
    },
    {
     "data": {
      "text/html": [
       "<pre>  Optimizing model using SGD; tuning step size.</pre>"
      ],
      "text/plain": [
       "  Optimizing model using SGD; tuning step size."
      ]
     },
     "metadata": {},
     "output_type": "display_data"
    },
    {
     "data": {
      "text/html": [
       "<pre>  Using 10000 / 42606 points for tuning the step size.</pre>"
      ],
      "text/plain": [
       "  Using 10000 / 42606 points for tuning the step size."
      ]
     },
     "metadata": {},
     "output_type": "display_data"
    },
    {
     "data": {
      "text/html": [
       "<pre>+---------+-------------------+------------------------------------------+</pre>"
      ],
      "text/plain": [
       "+---------+-------------------+------------------------------------------+"
      ]
     },
     "metadata": {},
     "output_type": "display_data"
    },
    {
     "data": {
      "text/html": [
       "<pre>| Attempt | Initial Step Size | Estimated Objective Value                |</pre>"
      ],
      "text/plain": [
       "| Attempt | Initial Step Size | Estimated Objective Value                |"
      ]
     },
     "metadata": {},
     "output_type": "display_data"
    },
    {
     "data": {
      "text/html": [
       "<pre>+---------+-------------------+------------------------------------------+</pre>"
      ],
      "text/plain": [
       "+---------+-------------------+------------------------------------------+"
      ]
     },
     "metadata": {},
     "output_type": "display_data"
    },
    {
     "data": {
      "text/html": [
       "<pre>| 0       | 25                | Not Viable                               |</pre>"
      ],
      "text/plain": [
       "| 0       | 25                | Not Viable                               |"
      ]
     },
     "metadata": {},
     "output_type": "display_data"
    },
    {
     "data": {
      "text/html": [
       "<pre>| 1       | 6.25              | Not Viable                               |</pre>"
      ],
      "text/plain": [
       "| 1       | 6.25              | Not Viable                               |"
      ]
     },
     "metadata": {},
     "output_type": "display_data"
    },
    {
     "data": {
      "text/html": [
       "<pre>| 2       | 1.5625            | Not Viable                               |</pre>"
      ],
      "text/plain": [
       "| 2       | 1.5625            | Not Viable                               |"
      ]
     },
     "metadata": {},
     "output_type": "display_data"
    },
    {
     "data": {
      "text/html": [
       "<pre>| 3       | 0.390625          | 0.140581                                 |</pre>"
      ],
      "text/plain": [
       "| 3       | 0.390625          | 0.140581                                 |"
      ]
     },
     "metadata": {},
     "output_type": "display_data"
    },
    {
     "data": {
      "text/html": [
       "<pre>| 4       | 0.195312          | 0.262329                                 |</pre>"
      ],
      "text/plain": [
       "| 4       | 0.195312          | 0.262329                                 |"
      ]
     },
     "metadata": {},
     "output_type": "display_data"
    },
    {
     "data": {
      "text/html": [
       "<pre>| 5       | 0.0976562         | 0.312222                                 |</pre>"
      ],
      "text/plain": [
       "| 5       | 0.0976562         | 0.312222                                 |"
      ]
     },
     "metadata": {},
     "output_type": "display_data"
    },
    {
     "data": {
      "text/html": [
       "<pre>+---------+-------------------+------------------------------------------+</pre>"
      ],
      "text/plain": [
       "+---------+-------------------+------------------------------------------+"
      ]
     },
     "metadata": {},
     "output_type": "display_data"
    },
    {
     "data": {
      "text/html": [
       "<pre>| Final   | 0.390625          | 0.140581                                 |</pre>"
      ],
      "text/plain": [
       "| Final   | 0.390625          | 0.140581                                 |"
      ]
     },
     "metadata": {},
     "output_type": "display_data"
    },
    {
     "data": {
      "text/html": [
       "<pre>+---------+-------------------+------------------------------------------+</pre>"
      ],
      "text/plain": [
       "+---------+-------------------+------------------------------------------+"
      ]
     },
     "metadata": {},
     "output_type": "display_data"
    },
    {
     "data": {
      "text/html": [
       "<pre>Starting Optimization.</pre>"
      ],
      "text/plain": [
       "Starting Optimization."
      ]
     },
     "metadata": {},
     "output_type": "display_data"
    },
    {
     "data": {
      "text/html": [
       "<pre>+---------+--------------+-------------------+-----------------------+-------------+</pre>"
      ],
      "text/plain": [
       "+---------+--------------+-------------------+-----------------------+-------------+"
      ]
     },
     "metadata": {},
     "output_type": "display_data"
    },
    {
     "data": {
      "text/html": [
       "<pre>| Iter.   | Elapsed Time | Approx. Objective | Approx. Training RMSE | Step Size   |</pre>"
      ],
      "text/plain": [
       "| Iter.   | Elapsed Time | Approx. Objective | Approx. Training RMSE | Step Size   |"
      ]
     },
     "metadata": {},
     "output_type": "display_data"
    },
    {
     "data": {
      "text/html": [
       "<pre>+---------+--------------+-------------------+-----------------------+-------------+</pre>"
      ],
      "text/plain": [
       "+---------+--------------+-------------------+-----------------------+-------------+"
      ]
     },
     "metadata": {},
     "output_type": "display_data"
    },
    {
     "data": {
      "text/html": [
       "<pre>| Initial | 155us        | 0.862368          | 0.928638              |             |</pre>"
      ],
      "text/plain": [
       "| Initial | 155us        | 0.862368          | 0.928638              |             |"
      ]
     },
     "metadata": {},
     "output_type": "display_data"
    },
    {
     "data": {
      "text/html": [
       "<pre>+---------+--------------+-------------------+-----------------------+-------------+</pre>"
      ],
      "text/plain": [
       "+---------+--------------+-------------------+-----------------------+-------------+"
      ]
     },
     "metadata": {},
     "output_type": "display_data"
    },
    {
     "data": {
      "text/html": [
       "<pre>| 1       | 81.79ms      | DIVERGED          | DIVERGED              | 0.390625    |</pre>"
      ],
      "text/plain": [
       "| 1       | 81.79ms      | DIVERGED          | DIVERGED              | 0.390625    |"
      ]
     },
     "metadata": {},
     "output_type": "display_data"
    },
    {
     "data": {
      "text/html": [
       "<pre>| RESET   | 95.103ms     | 0.862376          | 0.928642              |             |</pre>"
      ],
      "text/plain": [
       "| RESET   | 95.103ms     | 0.862376          | 0.928642              |             |"
      ]
     },
     "metadata": {},
     "output_type": "display_data"
    },
    {
     "data": {
      "text/html": [
       "<pre>| 1       | 189.719ms    | 0.851121          | 0.922549              | 0.195312    |</pre>"
      ],
      "text/plain": [
       "| 1       | 189.719ms    | 0.851121          | 0.922549              | 0.195312    |"
      ]
     },
     "metadata": {},
     "output_type": "display_data"
    },
    {
     "data": {
      "text/html": [
       "<pre>| 2       | 272.672ms    | 0.664832          | 0.815367              | 0.116134    |</pre>"
      ],
      "text/plain": [
       "| 2       | 272.672ms    | 0.664832          | 0.815367              | 0.116134    |"
      ]
     },
     "metadata": {},
     "output_type": "display_data"
    },
    {
     "data": {
      "text/html": [
       "<pre>| 3       | 347.648ms    | 0.531127          | 0.728776              | 0.0856819   |</pre>"
      ],
      "text/plain": [
       "| 3       | 347.648ms    | 0.531127          | 0.728776              | 0.0856819   |"
      ]
     },
     "metadata": {},
     "output_type": "display_data"
    },
    {
     "data": {
      "text/html": [
       "<pre>| 4       | 432.685ms    | 0.399626          | 0.632145              | 0.0690534   |</pre>"
      ],
      "text/plain": [
       "| 4       | 432.685ms    | 0.399626          | 0.632145              | 0.0690534   |"
      ]
     },
     "metadata": {},
     "output_type": "display_data"
    },
    {
     "data": {
      "text/html": [
       "<pre>| 5       | 529.626ms    | 0.295838          | 0.543885              | 0.0584121   |</pre>"
      ],
      "text/plain": [
       "| 5       | 529.626ms    | 0.295838          | 0.543885              | 0.0584121   |"
      ]
     },
     "metadata": {},
     "output_type": "display_data"
    },
    {
     "data": {
      "text/html": [
       "<pre>| 6       | 620.278ms    | 0.223119          | 0.47232               | 0.0509468   |</pre>"
      ],
      "text/plain": [
       "| 6       | 620.278ms    | 0.223119          | 0.47232               | 0.0509468   |"
      ]
     },
     "metadata": {},
     "output_type": "display_data"
    },
    {
     "data": {
      "text/html": [
       "<pre>| 11      | 992.588ms    | 0.0814002         | 0.285214              | 0.0323359   |</pre>"
      ],
      "text/plain": [
       "| 11      | 992.588ms    | 0.0814002         | 0.285214              | 0.0323359   |"
      ]
     },
     "metadata": {},
     "output_type": "display_data"
    },
    {
     "data": {
      "text/html": [
       "<pre>| 24      | 1.89s        | 0.0277573         | 0.166397              | 0.0180124   |</pre>"
      ],
      "text/plain": [
       "| 24      | 1.89s        | 0.0277573         | 0.166397              | 0.0180124   |"
      ]
     },
     "metadata": {},
     "output_type": "display_data"
    },
    {
     "data": {
      "text/html": [
       "<pre>| 49      | 3.52s        | 0.0144989         | 0.120088              | 0.0105459   |</pre>"
      ],
      "text/plain": [
       "| 49      | 3.52s        | 0.0144989         | 0.120088              | 0.0105459   |"
      ]
     },
     "metadata": {},
     "output_type": "display_data"
    },
    {
     "data": {
      "text/html": [
       "<pre>+---------+--------------+-------------------+-----------------------+-------------+</pre>"
      ],
      "text/plain": [
       "+---------+--------------+-------------------+-----------------------+-------------+"
      ]
     },
     "metadata": {},
     "output_type": "display_data"
    },
    {
     "data": {
      "text/html": [
       "<pre>Optimization Complete: Maximum number of passes through the data reached.</pre>"
      ],
      "text/plain": [
       "Optimization Complete: Maximum number of passes through the data reached."
      ]
     },
     "metadata": {},
     "output_type": "display_data"
    },
    {
     "data": {
      "text/html": [
       "<pre>Computing final objective value and training RMSE.</pre>"
      ],
      "text/plain": [
       "Computing final objective value and training RMSE."
      ]
     },
     "metadata": {},
     "output_type": "display_data"
    },
    {
     "data": {
      "text/html": [
       "<pre>       Final objective value: 0.0127274</pre>"
      ],
      "text/plain": [
       "       Final objective value: 0.0127274"
      ]
     },
     "metadata": {},
     "output_type": "display_data"
    },
    {
     "data": {
      "text/html": [
       "<pre>       Final training RMSE: 0.11247</pre>"
      ],
      "text/plain": [
       "       Final training RMSE: 0.11247"
      ]
     },
     "metadata": {},
     "output_type": "display_data"
    }
   ],
   "source": [
    "model = gl.factorization_recommender.create(sf_train, target=\"rating\")"
   ]
  },
  {
   "cell_type": "code",
   "execution_count": 120,
   "metadata": {},
   "outputs": [
    {
     "data": {
      "text/plain": [
       "dtype: float\n",
       "Rows: 10652\n",
       "[4.952044784527497, 4.738239190977292, 4.984453692537026, 4.5418739239389465, 2.1057482356841133, 4.252475141983704, 4.4745421739930675, 4.8429531226570175, 5.091253995400147, 4.297597866010146, 4.985629222791867, 4.874238043528275, 4.70360820877202, 3.7870022724086807, 4.145168868795262, 4.116479925316052, 3.8921819841193424, 4.166383251052575, 5.564881503086762, 2.010650600742774, 1.0073691899592445, 4.1237849886233375, 4.999169311922269, 4.866084441047387, 3.2314367214853332, 4.0624564881140754, 5.200639649730401, 4.9747244412715, 3.9006323809439705, 5.609193652605863, 4.660459070902543, 5.277727860462146, 4.215666884061174, 5.297743685048299, 3.6736876680219934, 4.654904916387276, 4.982435762386994, 4.164538621407227, 4.352399976428823, 5.098637721937375, 3.2868209476286934, 4.361424941074328, 5.152370184164719, 3.9369060466701553, 3.925257987778859, 4.996246933441834, 4.32980014334269, 5.054909742873387, 5.007713764410691, 2.9927102098877, 4.2666585663969085, 5.017859056096749, 4.938212474312858, 3.9171157399828003, 5.025483920674996, 4.077141761284547, 2.9473216677720115, 5.83143460701056, 4.456472269695477, 3.5488503421361015, 4.562101408343987, 3.846890434127526, 5.198008477192597, 3.9037244314963386, 4.4570797788614795, 4.062248259287553, 4.956837594013886, 4.985610246163087, 4.442535109322743, 3.093571945529656, 4.962742402654366, 4.99938738296576, 2.467374469589667, 1.908909290533738, 4.016926079493241, 3.307198062043862, 4.43268819103785, 2.8061384106690452, 4.987895000230746, 3.708952217798905, 3.9725917796308563, 3.5950840855652855, 4.440816863876061, 3.5332402358467148, 4.485011606913285, 5.0226390245074795, 5.008788132544832, 4.957303970556931, 4.998419790964799, 5.083431764941888, 4.733223974209504, 2.284861575316863, 4.499368942778783, 3.9801552141720817, 5.038143142562585, 3.2592862914020584, 3.1080136815721557, 5.001481443148331, 4.838923826318459, 4.0889195347840355, ... ]"
      ]
     },
     "execution_count": 120,
     "metadata": {},
     "output_type": "execute_result"
    }
   ],
   "source": [
    "model.predict(sf_test)"
   ]
  },
  {
   "cell_type": "code",
   "execution_count": 126,
   "metadata": {},
   "outputs": [
    {
     "data": {
      "text/html": [
       "<pre>recommendations finished on 1000/3979 queries. users per second: 22765</pre>"
      ],
      "text/plain": [
       "recommendations finished on 1000/3979 queries. users per second: 22765"
      ]
     },
     "metadata": {},
     "output_type": "display_data"
    },
    {
     "data": {
      "text/html": [
       "<pre>recommendations finished on 2000/3979 queries. users per second: 27299.7</pre>"
      ],
      "text/plain": [
       "recommendations finished on 2000/3979 queries. users per second: 27299.7"
      ]
     },
     "metadata": {},
     "output_type": "display_data"
    },
    {
     "data": {
      "text/html": [
       "<pre>recommendations finished on 3000/3979 queries. users per second: 24273.8</pre>"
      ],
      "text/plain": [
       "recommendations finished on 3000/3979 queries. users per second: 24273.8"
      ]
     },
     "metadata": {},
     "output_type": "display_data"
    },
    {
     "name": "stdout",
     "output_type": "stream",
     "text": [
      "\n",
      "Precision and recall summary statistics by cutoff\n",
      "+--------+-------------------+-------------------+\n",
      "| cutoff |   mean_precision  |    mean_recall    |\n",
      "+--------+-------------------+-------------------+\n",
      "|   1    |  0.00100527770797 | 0.000215715841501 |\n",
      "|   2    |  0.00113093742146 | 0.000781184552233 |\n",
      "|   3    | 0.000753958280975 | 0.000781184552233 |\n",
      "|   4    | 0.000565468710731 | 0.000781184552233 |\n",
      "|   5    | 0.000552902739382 | 0.000948730836894 |\n",
      "|   6    | 0.000544525425149 |  0.00115816369272 |\n",
      "|   7    | 0.000574444404552 |  0.00150821575174 |\n",
      "|   8    | 0.000502638853983 |  0.00150821575174 |\n",
      "|   9    | 0.000586411996314 |  0.00222028746155 |\n",
      "|   10   | 0.000578034682081 |  0.00227683433263 |\n",
      "+--------+-------------------+-------------------+\n",
      "[10 rows x 3 columns]\n",
      "\n",
      "('\\nOverall RMSE: ', 0.8147026444750739)\n",
      "\n",
      "Per User RMSE (best)\n",
      "+---------------+-------+------------------+\n",
      "|    user_id    | count |       rmse       |\n",
      "+---------------+-------+------------------+\n",
      "| ABNMD6670TV53 |   1   | 7.5757998748e-05 |\n",
      "+---------------+-------+------------------+\n",
      "[1 rows x 3 columns]\n",
      "\n",
      "\n",
      "Per User RMSE (worst)\n",
      "+---------------+-------+---------------+\n",
      "|    user_id    | count |      rmse     |\n",
      "+---------------+-------+---------------+\n",
      "| AOV9AIX4UE5BB |   1   | 5.05577424492 |\n",
      "+---------------+-------+---------------+\n",
      "[1 rows x 3 columns]\n",
      "\n",
      "\n",
      "Per Item RMSE (best)\n",
      "+------------+-------+-------------------+\n",
      "|  item_id   | count |        rmse       |\n",
      "+------------+-------+-------------------+\n",
      "| B005TJMC0S |   1   | 0.000149324041085 |\n",
      "+------------+-------+-------------------+\n",
      "[1 rows x 3 columns]\n",
      "\n",
      "\n",
      "Per Item RMSE (worst)\n",
      "+------------+-------+---------------+\n",
      "|  item_id   | count |      rmse     |\n",
      "+------------+-------+---------------+\n",
      "| B002M78HY0 |   1   | 4.39958018015 |\n",
      "+------------+-------+---------------+\n",
      "[1 rows x 3 columns]\n",
      "\n"
     ]
    },
    {
     "data": {
      "text/plain": [
       "{'precision_recall_by_user': Columns:\n",
       " \tuser_id\tstr\n",
       " \tcutoff\tint\n",
       " \tprecision\tfloat\n",
       " \trecall\tfloat\n",
       " \tcount\tint\n",
       " \n",
       " Rows: 71622\n",
       " \n",
       " Data:\n",
       " +-----------------------+--------+-----------+--------+-------+\n",
       " |        user_id        | cutoff | precision | recall | count |\n",
       " +-----------------------+--------+-----------+--------+-------+\n",
       " | A00473363TJ8YSZ3YAGG9 |   1    |    0.0    |  0.0   |   2   |\n",
       " | A00473363TJ8YSZ3YAGG9 |   2    |    0.0    |  0.0   |   2   |\n",
       " | A00473363TJ8YSZ3YAGG9 |   3    |    0.0    |  0.0   |   2   |\n",
       " | A00473363TJ8YSZ3YAGG9 |   4    |    0.0    |  0.0   |   2   |\n",
       " | A00473363TJ8YSZ3YAGG9 |   5    |    0.0    |  0.0   |   2   |\n",
       " | A00473363TJ8YSZ3YAGG9 |   6    |    0.0    |  0.0   |   2   |\n",
       " | A00473363TJ8YSZ3YAGG9 |   7    |    0.0    |  0.0   |   2   |\n",
       " | A00473363TJ8YSZ3YAGG9 |   8    |    0.0    |  0.0   |   2   |\n",
       " | A00473363TJ8YSZ3YAGG9 |   9    |    0.0    |  0.0   |   2   |\n",
       " | A00473363TJ8YSZ3YAGG9 |   10   |    0.0    |  0.0   |   2   |\n",
       " +-----------------------+--------+-----------+--------+-------+\n",
       " [71622 rows x 5 columns]\n",
       " Note: Only the head of the SFrame is printed.\n",
       " You can use print_rows(num_rows=m, num_columns=n) to print more rows and columns.,\n",
       " 'precision_recall_overall': Columns:\n",
       " \tcutoff\tint\n",
       " \tprecision\tfloat\n",
       " \trecall\tfloat\n",
       " \n",
       " Rows: 18\n",
       " \n",
       " Data:\n",
       " +--------+-------------------+-------------------+\n",
       " | cutoff |     precision     |       recall      |\n",
       " +--------+-------------------+-------------------+\n",
       " |   1    |  0.00100527770797 | 0.000215715841501 |\n",
       " |   2    |  0.00113093742146 | 0.000781184552233 |\n",
       " |   3    | 0.000753958280975 | 0.000781184552233 |\n",
       " |   4    | 0.000565468710731 | 0.000781184552233 |\n",
       " |   5    | 0.000552902739382 | 0.000948730836894 |\n",
       " |   6    | 0.000544525425149 |  0.00115816369272 |\n",
       " |   7    | 0.000574444404552 |  0.00150821575174 |\n",
       " |   8    | 0.000502638853983 |  0.00150821575174 |\n",
       " |   9    | 0.000586411996314 |  0.00222028746155 |\n",
       " |   10   | 0.000578034682081 |  0.00227683433263 |\n",
       " +--------+-------------------+-------------------+\n",
       " [18 rows x 3 columns]\n",
       " Note: Only the head of the SFrame is printed.\n",
       " You can use print_rows(num_rows=m, num_columns=n) to print more rows and columns.,\n",
       " 'rmse_by_item': Columns:\n",
       " \titem_id\tstr\n",
       " \tcount\tint\n",
       " \trmse\tfloat\n",
       " \n",
       " Rows: 2082\n",
       " \n",
       " Data:\n",
       " +------------+-------+-----------------+\n",
       " |  item_id   | count |       rmse      |\n",
       " +------------+-------+-----------------+\n",
       " | B000GGY9LY |   4   |  1.44093996641  |\n",
       " | B00006IDRW |   2   |  0.155847147824 |\n",
       " | B000QWCPDM |   6   |  1.07986562183  |\n",
       " | B000TY06T2 |   4   |  0.815447840797 |\n",
       " | B000XHY15A |   1   |  0.800177892001 |\n",
       " | B004DKZNO6 |   1   |  2.75259898367  |\n",
       " | B000J63RJQ |   3   |   1.1120739958  |\n",
       " | B0015TRJCM |   4   |  0.244181352999 |\n",
       " | B00GDDUXJG |   3   |  0.419249832894 |\n",
       " | B004N4MH14 |   2   | 0.0761915030616 |\n",
       " +------------+-------+-----------------+\n",
       " [2082 rows x 3 columns]\n",
       " Note: Only the head of the SFrame is printed.\n",
       " You can use print_rows(num_rows=m, num_columns=n) to print more rows and columns.,\n",
       " 'rmse_by_user': Columns:\n",
       " \tuser_id\tstr\n",
       " \tcount\tint\n",
       " \trmse\tfloat\n",
       " \n",
       " Rows: 3979\n",
       " \n",
       " Data:\n",
       " +----------------+-------+-----------------+\n",
       " |    user_id     | count |       rmse      |\n",
       " +----------------+-------+-----------------+\n",
       " | A2ZWCTN306P8J2 |   1   | 0.0167825142557 |\n",
       " | A3E7YWI8VV7VCV |   2   | 0.0496484975602 |\n",
       " | A1YURCSJHDUO5N |   1   |  0.382929134619 |\n",
       " | A3BMK3DZDH0N6Q |   2   |  0.660657699919 |\n",
       " | A1I1KIO31ZY2U4 |   1   |  0.487839930255 |\n",
       " | AKHFY3VCNZL2W  |   2   | 0.0570142130844 |\n",
       " | A3FBB819IJF9PF |   1   |  3.11022758533  |\n",
       " | A2KCZAB7PME6CX |   1   |  0.998012775293 |\n",
       " | A2XAKGRUHIE2ZA |   4   |  0.234865116909 |\n",
       " | AU1SKSAF00JJH  |   1   |  0.516321509581 |\n",
       " +----------------+-------+-----------------+\n",
       " [3979 rows x 3 columns]\n",
       " Note: Only the head of the SFrame is printed.\n",
       " You can use print_rows(num_rows=m, num_columns=n) to print more rows and columns.,\n",
       " 'rmse_overall': 0.8147026444750739}"
      ]
     },
     "execution_count": 126,
     "metadata": {},
     "output_type": "execute_result"
    }
   ],
   "source": [
    "model.evaluate(sf_test, target = 'rating')"
   ]
  },
  {
   "cell_type": "code",
   "execution_count": 127,
   "metadata": {},
   "outputs": [
    {
     "data": {
      "text/html": [
       "<pre>recommendations finished on 1000/4905 queries. users per second: 38254.1</pre>"
      ],
      "text/plain": [
       "recommendations finished on 1000/4905 queries. users per second: 38254.1"
      ]
     },
     "metadata": {},
     "output_type": "display_data"
    },
    {
     "data": {
      "text/html": [
       "<pre>recommendations finished on 2000/4905 queries. users per second: 33074.3</pre>"
      ],
      "text/plain": [
       "recommendations finished on 2000/4905 queries. users per second: 33074.3"
      ]
     },
     "metadata": {},
     "output_type": "display_data"
    },
    {
     "data": {
      "text/html": [
       "<pre>recommendations finished on 3000/4905 queries. users per second: 26543.5</pre>"
      ],
      "text/plain": [
       "recommendations finished on 3000/4905 queries. users per second: 26543.5"
      ]
     },
     "metadata": {},
     "output_type": "display_data"
    },
    {
     "data": {
      "text/html": [
       "<pre>recommendations finished on 4000/4905 queries. users per second: 26975.3</pre>"
      ],
      "text/plain": [
       "recommendations finished on 4000/4905 queries. users per second: 26975.3"
      ]
     },
     "metadata": {},
     "output_type": "display_data"
    },
    {
     "data": {
      "text/html": [
       "<div style=\"max-height:1000px;max-width:1500px;overflow:auto;\"><table frame=\"box\" rules=\"cols\">\n",
       "    <tr>\n",
       "        <th style=\"padding-left: 1em; padding-right: 1em; text-align: center\">user_id</th>\n",
       "        <th style=\"padding-left: 1em; padding-right: 1em; text-align: center\">item_id</th>\n",
       "        <th style=\"padding-left: 1em; padding-right: 1em; text-align: center\">score</th>\n",
       "        <th style=\"padding-left: 1em; padding-right: 1em; text-align: center\">rank</th>\n",
       "    </tr>\n",
       "    <tr>\n",
       "        <td style=\"padding-left: 1em; padding-right: 1em; text-align: center; vertical-align: top\">A260QLS8Z33KCQ</td>\n",
       "        <td style=\"padding-left: 1em; padding-right: 1em; text-align: center; vertical-align: top\">B004FQRW9W</td>\n",
       "        <td style=\"padding-left: 1em; padding-right: 1em; text-align: center; vertical-align: top\">5.50641429375</td>\n",
       "        <td style=\"padding-left: 1em; padding-right: 1em; text-align: center; vertical-align: top\">1</td>\n",
       "    </tr>\n",
       "    <tr>\n",
       "        <td style=\"padding-left: 1em; padding-right: 1em; text-align: center; vertical-align: top\">A260QLS8Z33KCQ</td>\n",
       "        <td style=\"padding-left: 1em; padding-right: 1em; text-align: center; vertical-align: top\">B0019L0X38</td>\n",
       "        <td style=\"padding-left: 1em; padding-right: 1em; text-align: center; vertical-align: top\">5.45292246292</td>\n",
       "        <td style=\"padding-left: 1em; padding-right: 1em; text-align: center; vertical-align: top\">2</td>\n",
       "    </tr>\n",
       "    <tr>\n",
       "        <td style=\"padding-left: 1em; padding-right: 1em; text-align: center; vertical-align: top\">A260QLS8Z33KCQ</td>\n",
       "        <td style=\"padding-left: 1em; padding-right: 1em; text-align: center; vertical-align: top\">B00135HSI8</td>\n",
       "        <td style=\"padding-left: 1em; padding-right: 1em; text-align: center; vertical-align: top\">5.43785977314</td>\n",
       "        <td style=\"padding-left: 1em; padding-right: 1em; text-align: center; vertical-align: top\">3</td>\n",
       "    </tr>\n",
       "    <tr>\n",
       "        <td style=\"padding-left: 1em; padding-right: 1em; text-align: center; vertical-align: top\">A260QLS8Z33KCQ</td>\n",
       "        <td style=\"padding-left: 1em; padding-right: 1em; text-align: center; vertical-align: top\">B00006JNJR</td>\n",
       "        <td style=\"padding-left: 1em; padding-right: 1em; text-align: center; vertical-align: top\">5.42263996552</td>\n",
       "        <td style=\"padding-left: 1em; padding-right: 1em; text-align: center; vertical-align: top\">4</td>\n",
       "    </tr>\n",
       "    <tr>\n",
       "        <td style=\"padding-left: 1em; padding-right: 1em; text-align: center; vertical-align: top\">A260QLS8Z33KCQ</td>\n",
       "        <td style=\"padding-left: 1em; padding-right: 1em; text-align: center; vertical-align: top\">B0027JBLV4</td>\n",
       "        <td style=\"padding-left: 1em; padding-right: 1em; text-align: center; vertical-align: top\">5.38534998844</td>\n",
       "        <td style=\"padding-left: 1em; padding-right: 1em; text-align: center; vertical-align: top\">5</td>\n",
       "    </tr>\n",
       "    <tr>\n",
       "        <td style=\"padding-left: 1em; padding-right: 1em; text-align: center; vertical-align: top\">A260QLS8Z33KCQ</td>\n",
       "        <td style=\"padding-left: 1em; padding-right: 1em; text-align: center; vertical-align: top\">B001PMHURI</td>\n",
       "        <td style=\"padding-left: 1em; padding-right: 1em; text-align: center; vertical-align: top\">5.23251783798</td>\n",
       "        <td style=\"padding-left: 1em; padding-right: 1em; text-align: center; vertical-align: top\">6</td>\n",
       "    </tr>\n",
       "    <tr>\n",
       "        <td style=\"padding-left: 1em; padding-right: 1em; text-align: center; vertical-align: top\">A260QLS8Z33KCQ</td>\n",
       "        <td style=\"padding-left: 1em; padding-right: 1em; text-align: center; vertical-align: top\">B001V9LQH0</td>\n",
       "        <td style=\"padding-left: 1em; padding-right: 1em; text-align: center; vertical-align: top\">5.21542286823</td>\n",
       "        <td style=\"padding-left: 1em; padding-right: 1em; text-align: center; vertical-align: top\">7</td>\n",
       "    </tr>\n",
       "    <tr>\n",
       "        <td style=\"padding-left: 1em; padding-right: 1em; text-align: center; vertical-align: top\">A260QLS8Z33KCQ</td>\n",
       "        <td style=\"padding-left: 1em; padding-right: 1em; text-align: center; vertical-align: top\">B0000C3IDW</td>\n",
       "        <td style=\"padding-left: 1em; padding-right: 1em; text-align: center; vertical-align: top\">5.13263952683</td>\n",
       "        <td style=\"padding-left: 1em; padding-right: 1em; text-align: center; vertical-align: top\">8</td>\n",
       "    </tr>\n",
       "    <tr>\n",
       "        <td style=\"padding-left: 1em; padding-right: 1em; text-align: center; vertical-align: top\">A260QLS8Z33KCQ</td>\n",
       "        <td style=\"padding-left: 1em; padding-right: 1em; text-align: center; vertical-align: top\">B009ZMWHIC</td>\n",
       "        <td style=\"padding-left: 1em; padding-right: 1em; text-align: center; vertical-align: top\">5.11222362469</td>\n",
       "        <td style=\"padding-left: 1em; padding-right: 1em; text-align: center; vertical-align: top\">9</td>\n",
       "    </tr>\n",
       "    <tr>\n",
       "        <td style=\"padding-left: 1em; padding-right: 1em; text-align: center; vertical-align: top\">A260QLS8Z33KCQ</td>\n",
       "        <td style=\"padding-left: 1em; padding-right: 1em; text-align: center; vertical-align: top\">B00006IZSI</td>\n",
       "        <td style=\"padding-left: 1em; padding-right: 1em; text-align: center; vertical-align: top\">5.10990214298</td>\n",
       "        <td style=\"padding-left: 1em; padding-right: 1em; text-align: center; vertical-align: top\">10</td>\n",
       "    </tr>\n",
       "</table>\n",
       "[49050 rows x 4 columns]<br/>Note: Only the head of the SFrame is printed.<br/>You can use print_rows(num_rows=m, num_columns=n) to print more rows and columns.\n",
       "</div>"
      ],
      "text/plain": [
       "Columns:\n",
       "\tuser_id\tstr\n",
       "\titem_id\tstr\n",
       "\tscore\tfloat\n",
       "\trank\tint\n",
       "\n",
       "Rows: 49050\n",
       "\n",
       "Data:\n",
       "+----------------+------------+---------------+------+\n",
       "|    user_id     |  item_id   |     score     | rank |\n",
       "+----------------+------------+---------------+------+\n",
       "| A260QLS8Z33KCQ | B004FQRW9W | 5.50641429375 |  1   |\n",
       "| A260QLS8Z33KCQ | B0019L0X38 | 5.45292246292 |  2   |\n",
       "| A260QLS8Z33KCQ | B00135HSI8 | 5.43785977314 |  3   |\n",
       "| A260QLS8Z33KCQ | B00006JNJR | 5.42263996552 |  4   |\n",
       "| A260QLS8Z33KCQ | B0027JBLV4 | 5.38534998844 |  5   |\n",
       "| A260QLS8Z33KCQ | B001PMHURI | 5.23251783798 |  6   |\n",
       "| A260QLS8Z33KCQ | B001V9LQH0 | 5.21542286823 |  7   |\n",
       "| A260QLS8Z33KCQ | B0000C3IDW | 5.13263952683 |  8   |\n",
       "| A260QLS8Z33KCQ | B009ZMWHIC | 5.11222362469 |  9   |\n",
       "| A260QLS8Z33KCQ | B00006IZSI | 5.10990214298 |  10  |\n",
       "+----------------+------------+---------------+------+\n",
       "[49050 rows x 4 columns]\n",
       "Note: Only the head of the SFrame is printed.\n",
       "You can use print_rows(num_rows=m, num_columns=n) to print more rows and columns."
      ]
     },
     "execution_count": 127,
     "metadata": {},
     "output_type": "execute_result"
    }
   ],
   "source": [
    "model.recommend()"
   ]
  },
  {
   "cell_type": "code",
   "execution_count": 128,
   "metadata": {},
   "outputs": [
    {
     "data": {
      "text/html": [
       "<pre>recommendations finished on 1000/3979 queries. users per second: 19042.5</pre>"
      ],
      "text/plain": [
       "recommendations finished on 1000/3979 queries. users per second: 19042.5"
      ]
     },
     "metadata": {},
     "output_type": "display_data"
    },
    {
     "data": {
      "text/html": [
       "<pre>recommendations finished on 2000/3979 queries. users per second: 23713.3</pre>"
      ],
      "text/plain": [
       "recommendations finished on 2000/3979 queries. users per second: 23713.3"
      ]
     },
     "metadata": {},
     "output_type": "display_data"
    },
    {
     "data": {
      "text/html": [
       "<pre>recommendations finished on 3000/3979 queries. users per second: 25639.3</pre>"
      ],
      "text/plain": [
       "recommendations finished on 3000/3979 queries. users per second: 25639.3"
      ]
     },
     "metadata": {},
     "output_type": "display_data"
    },
    {
     "data": {
      "text/plain": [
       "{'precision_recall_by_user': Columns:\n",
       " \tuser_id\tstr\n",
       " \tcutoff\tint\n",
       " \tprecision\tfloat\n",
       " \trecall\tfloat\n",
       " \tcount\tint\n",
       " \n",
       " Rows: 71622\n",
       " \n",
       " Data:\n",
       " +-----------------------+--------+-----------+--------+-------+\n",
       " |        user_id        | cutoff | precision | recall | count |\n",
       " +-----------------------+--------+-----------+--------+-------+\n",
       " | A00473363TJ8YSZ3YAGG9 |   1    |    0.0    |  0.0   |   2   |\n",
       " | A00473363TJ8YSZ3YAGG9 |   2    |    0.0    |  0.0   |   2   |\n",
       " | A00473363TJ8YSZ3YAGG9 |   3    |    0.0    |  0.0   |   2   |\n",
       " | A00473363TJ8YSZ3YAGG9 |   4    |    0.0    |  0.0   |   2   |\n",
       " | A00473363TJ8YSZ3YAGG9 |   5    |    0.0    |  0.0   |   2   |\n",
       " | A00473363TJ8YSZ3YAGG9 |   6    |    0.0    |  0.0   |   2   |\n",
       " | A00473363TJ8YSZ3YAGG9 |   7    |    0.0    |  0.0   |   2   |\n",
       " | A00473363TJ8YSZ3YAGG9 |   8    |    0.0    |  0.0   |   2   |\n",
       " | A00473363TJ8YSZ3YAGG9 |   9    |    0.0    |  0.0   |   2   |\n",
       " | A00473363TJ8YSZ3YAGG9 |   10   |    0.0    |  0.0   |   2   |\n",
       " +-----------------------+--------+-----------+--------+-------+\n",
       " [71622 rows x 5 columns]\n",
       " Note: Only the head of the SFrame is printed.\n",
       " You can use print_rows(num_rows=m, num_columns=n) to print more rows and columns.,\n",
       " 'precision_recall_overall': Columns:\n",
       " \tcutoff\tint\n",
       " \tprecision\tfloat\n",
       " \trecall\tfloat\n",
       " \n",
       " Rows: 18\n",
       " \n",
       " Data:\n",
       " +--------+-------------------+-------------------+\n",
       " | cutoff |     precision     |       recall      |\n",
       " +--------+-------------------+-------------------+\n",
       " |   1    |  0.00100527770797 | 0.000215715841501 |\n",
       " |   2    |  0.00113093742146 | 0.000781184552233 |\n",
       " |   3    | 0.000753958280975 | 0.000781184552233 |\n",
       " |   4    | 0.000565468710731 | 0.000781184552233 |\n",
       " |   5    | 0.000552902739382 | 0.000948730836894 |\n",
       " |   6    | 0.000544525425149 |  0.00115816369272 |\n",
       " |   7    | 0.000574444404552 |  0.00150821575174 |\n",
       " |   8    | 0.000502638853983 |  0.00150821575174 |\n",
       " |   9    | 0.000586411996314 |  0.00222028746155 |\n",
       " |   10   | 0.000578034682081 |  0.00227683433263 |\n",
       " +--------+-------------------+-------------------+\n",
       " [18 rows x 3 columns]\n",
       " Note: Only the head of the SFrame is printed.\n",
       " You can use print_rows(num_rows=m, num_columns=n) to print more rows and columns.}"
      ]
     },
     "execution_count": 128,
     "metadata": {},
     "output_type": "execute_result"
    }
   ],
   "source": [
    "model.evaluate_precision_recall(sf_test)"
   ]
  },
  {
   "cell_type": "code",
   "execution_count": 129,
   "metadata": {},
   "outputs": [
    {
     "name": "stdout",
     "output_type": "stream",
     "text": [
      "Class                            : FactorizationRecommender\n",
      "\n",
      "Schema\n",
      "------\n",
      "User ID                          : user_id\n",
      "Item ID                          : item_id\n",
      "Target                           : rating\n",
      "Additional observation features  : 0\n",
      "User side features               : []\n",
      "Item side features               : []\n",
      "\n",
      "Statistics\n",
      "----------\n",
      "Number of observations           : 42606\n",
      "Number of users                  : 4905\n",
      "Number of items                  : 2420\n",
      "\n",
      "Training summary\n",
      "----------------\n",
      "Training time                    : 4.9838\n",
      "\n",
      "Model Parameters\n",
      "----------------\n",
      "Model class                      : FactorizationRecommender\n",
      "num_factors                      : 8\n",
      "binary_target                    : 0\n",
      "side_data_factorization          : 1\n",
      "solver                           : auto\n",
      "nmf                              : 0\n",
      "max_iterations                   : 50\n",
      "\n",
      "Regularization Settings\n",
      "-----------------------\n",
      "regularization                   : 0.0\n",
      "regularization_type              : normal\n",
      "linear_regularization            : 0.0\n",
      "\n",
      "Optimization Settings\n",
      "---------------------\n",
      "init_random_sigma                : 0.01\n",
      "sgd_convergence_interval         : 4\n",
      "sgd_convergence_threshold        : 0.0\n",
      "sgd_max_trial_iterations         : 5\n",
      "sgd_sampling_block_size          : 131072\n",
      "sgd_step_adjustment_interval     : 4\n",
      "sgd_step_size                    : 0.0\n",
      "sgd_trial_sample_minimum_size    : 10000\n",
      "sgd_trial_sample_proportion      : 0.125\n",
      "step_size_decrease_rate          : 0.75\n",
      "additional_iterations_if_unhealthy : 5\n",
      "adagrad_momentum_weighting       : 0.9\n",
      "num_tempering_iterations         : 4\n",
      "tempering_regularization_start_value : 0.0\n",
      "track_exact_loss                 : 0\n",
      "\n"
     ]
    }
   ],
   "source": [
    "model.summary()"
   ]
  },
  {
   "cell_type": "code",
   "execution_count": null,
   "metadata": {},
   "outputs": [],
   "source": []
  }
 ],
 "metadata": {
  "kernelspec": {
   "display_name": "Python 2",
   "language": "python",
   "name": "python2"
  },
  "language_info": {
   "codemirror_mode": {
    "name": "ipython",
    "version": 2
   },
   "file_extension": ".py",
   "mimetype": "text/x-python",
   "name": "python",
   "nbconvert_exporter": "python",
   "pygments_lexer": "ipython2",
   "version": "2.7.10"
  }
 },
 "nbformat": 4,
 "nbformat_minor": 2
}
